



import torch
kk=torch.normal(mean=0.0,std=torch.rand(10))
print("kk normal",kk)




