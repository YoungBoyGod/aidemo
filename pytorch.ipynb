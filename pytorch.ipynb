{
 "cells": [
  {
   "cell_type": "code",
   "execution_count": 2,
   "id": "5557fc56-3efb-40a6-b269-113efcc64053",
   "metadata": {},
   "outputs": [
    {
     "name": "stdout",
     "output_type": "stream",
     "text": [
      "3.13.2 (main, Feb 12 2025, 14:59:08) [Clang 19.1.6 ]\n"
     ]
    }
   ],
   "source": [
    "import sys\n",
    "print(sys.version)"
   ]
  },
  {
   "cell_type": "code",
   "execution_count": 5,
   "id": "27779d2c-141f-4434-91d7-4b27ccc76fad",
   "metadata": {},
   "outputs": [
    {
     "name": "stdout",
     "output_type": "stream",
     "text": [
      "x 一个张量: tensor([1, 2, 3])\n",
      "y 一个随机张量: tensor([0.8612, 0.6023, 0.5873, 0.9967, 0.6268, 0.3029, 0.7047, 0.4441, 0.6413,\n",
      "        0.9751])\n",
      "z 一个全0张量: tensor([0., 0., 0., 0., 0., 0., 0., 0., 0., 0.])\n",
      "w 一个全1张量: tensor([1., 1., 1., 1., 1., 1., 1., 1., 1., 1.])\n",
      "u 一个全2张量: tensor([2, 2, 2, 2, 2, 2, 2, 2, 2, 2])\n",
      "I 一个单位矩阵: tensor([[1., 0., 0.],\n",
      "        [0., 1., 0.],\n",
      "        [0., 0., 1.]])\n",
      "D 一个对角矩阵: tensor([[1, 0, 0],\n",
      "        [0, 2, 0],\n",
      "        [0, 0, 3]])\n",
      "R 一个随机矩阵: tensor([[0.0790, 0.4009, 0.5986, 0.9792],\n",
      "        [0.3169, 0.5263, 0.1248, 0.2795],\n",
      "        [0.2023, 0.0618, 0.3868, 0.1629]])\n",
      "Z 一个全0矩阵: tensor([[0., 0., 0., 0.],\n",
      "        [0., 0., 0., 0.],\n",
      "        [0., 0., 0., 0.]])\n",
      "x 一个doublefloat类型的张量: tensor([1., 2., 3.], dtype=torch.float64)\n",
      "y 一个long类型的张量: tensor([1, 2, 3])\n",
      "yy 一个doublefloat类型的张量: tensor([1., 2., 3.], dtype=torch.float64)\n",
      "zz 一个long类型的张量: tensor([1, 2, 3])\n",
      "ww 一个float类型的张量: tensor([1., 2., 3.])\n"
     ]
    }
   ],
   "source": [
    "import torch\n",
    "# 创建一个张量\n",
    "x = torch.tensor([1,2,3])\n",
    "print(\"x 一个张量:\",x)\n",
    "\n",
    "# 创建一个随机张量\n",
    "y = torch.rand(10)\n",
    "print(\"y 一个随机张量:\",y)\n",
    "\n",
    "# 创建一个全0张量\n",
    "z = torch.zeros(10)\n",
    "print(\"z 一个全0张量:\",z)\n",
    "\n",
    "# 创建一个全1张量\n",
    "w = torch.ones(10)\n",
    "print(\"w 一个全1张量:\",w)\n",
    "\n",
    "# 创建一个全2张量\n",
    "u = torch.full((10,),2)\n",
    "print(\"u 一个全2张量:\",u)\n",
    "\n",
    "# 创建一个单位矩阵\n",
    "I = torch.eye(3)\n",
    "print(\"I 一个单位矩阵:\",I)\n",
    "\n",
    "# 创建一个对角矩阵\n",
    "D = torch.diag(torch.tensor([1,2,3]))\n",
    "print(\"D 一个对角矩阵:\",D)\n",
    "\n",
    "# 创建一个随机矩阵\n",
    "R = torch.rand(3,4)\n",
    "print(\"R 一个随机矩阵:\",R)\n",
    "\n",
    "# 创建一个全0矩阵\n",
    "Z = torch.zeros(3,4)\n",
    "print(\"Z 一个全0矩阵:\",Z)\n",
    "\n",
    "# 创建一个doublefloat64\n",
    "x = torch.tensor([1,2,3],dtype=torch.double)\n",
    "print(\"x 一个doublefloat类型的张量:\",x)\n",
    "\n",
    "# 创建一个long类型的张量\n",
    "y = torch.tensor([1,2,3],dtype=torch.long)\n",
    "print(\"y 一个long类型的张量:\",y)\n",
    "\n",
    "yy=torch.DoubleTensor([1,2,3])\n",
    "print(\"yy 一个doublefloat类型的张量:\",yy)\n",
    "\n",
    "# 创建一个long类型的张量\n",
    "zz=torch.LongTensor([1,2,3])\n",
    "print(\"zz 一个long类型的张量:\",zz)\n",
    "\n",
    "# 创建一个float类型的张量\n",
    "ww=torch.FloatTensor([1,2,3])\n",
    "print(\"ww 一个float类型的张量:\",ww)"
   ]
  },
  {
   "cell_type": "code",
   "execution_count": null,
   "id": "845aaa15",
   "metadata": {},
   "outputs": [],
   "source": []
  },
  {
   "cell_type": "code",
   "execution_count": null,
   "id": "ba81a25b",
   "metadata": {},
   "outputs": [],
   "source": []
  },
  {
   "cell_type": "code",
   "execution_count": 7,
   "id": "d47ec9e8",
   "metadata": {},
   "outputs": [
    {
     "name": "stdout",
     "output_type": "stream",
     "text": [
      "data 一个numpy数组: tensor([[ 1.1034,  2.9933,  0.6693],\n",
      "        [-0.3053, -1.3305,  0.1207]], dtype=torch.float64)\n",
      "data 一个numpy数组: [[ 1.10339559  2.99325228  0.66934577]\n",
      " [-0.30534198 -1.33052713  0.12066703]]\n",
      "data 一个numpy数组: tensor([[ 1.1034,  2.9933,  0.6693],\n",
      "        [-0.3053, -1.3305,  0.1207]], dtype=torch.float64)\n",
      "data 一个tensor: tensor([[1., 2., 3.],\n",
      "        [4., 5., 6.]])\n",
      "data 一个numpy数组: [[1. 2. 3.]\n",
      " [4. 5. 6.]]\n",
      "data 一个tensor: tensor([[1., 2., 3.],\n",
      "        [4., 5., 6.]])\n"
     ]
    }
   ],
   "source": [
    "import torch\n",
    "import numpy as np\n",
    "\n",
    "data=np.random.randn(2,3)\n",
    "data=torch.from_numpy(data)\n",
    "print(\"data 一个numpy数组:\",data)\n",
    "\n",
    "data=data.numpy()\n",
    "print(\"data 一个numpy数组:\",data)\n",
    "\n",
    "data=torch.from_numpy(data)\n",
    "print(\"data 一个numpy数组:\",data)\n",
    "\n",
    "data =[[1.,2.,3],[4,5,6]]\n",
    "data=torch.tensor(data)\n",
    "print(\"data 一个tensor:\",data)\n",
    "\n",
    "data=data.numpy()\n",
    "print(\"data 一个numpy数组:\",data)\n",
    "\n",
    "data=torch.from_numpy(data)\n",
    "print(\"data 一个tensor:\",data)"
   ]
  },
  {
   "cell_type": "code",
   "execution_count": 11,
   "id": "b4765314",
   "metadata": {},
   "outputs": [
    {
     "name": "stdout",
     "output_type": "stream",
     "text": [
      "data 一个tensor: tensor([1, 2, 3])\n",
      "data 一个numpy数组: [1 2 3]\n",
      "data 的类型: <class 'numpy.ndarray'>\n",
      "data 一个tensor: tensor([100,   2,   3])\n",
      "data 一个numpy数组: [100   2   3]\n",
      "data 一个numpy数组: [101   2   3]\n",
      "data 一个tensor: tensor([101,   2,   3])\n",
      "data_numpy_copy 一个numpy数组: [101   2   3]\n",
      "data_numpy_copy 的类型: <class 'numpy.ndarray'>\n",
      "data_numpy_copy 一个numpy数组: [102   2   3]\n",
      "data_numpy 一个numpy数组: [101   2   3]\n"
     ]
    }
   ],
   "source": [
    "# 类型转化\n",
    "\n",
    "# numpy 和tensor\n",
    "\n",
    "# Tensor.numpy 将tensor转化为numpy数组 共享内存\n",
    "\n",
    "data_tensor=torch.tensor([1,2,3])\n",
    "print(\"data 一个tensor:\",data_tensor)\n",
    "\n",
    "# 将tensor转化为numpy数组\n",
    "data_numpy=data_tensor.numpy()\n",
    "print(\"data 一个numpy数组:\",data_numpy)\n",
    "print(\"data 的类型:\",type(data_numpy))\n",
    "\n",
    "\n",
    "# modify data_tensor\n",
    "data_tensor[0]=100\n",
    "print(\"data 一个tensor:\",data_tensor)\n",
    "print(\"data 一个numpy数组:\",data_numpy)\n",
    "\n",
    "# modify data_numpy\n",
    "data_numpy[0]=101\n",
    "print(\"data 一个numpy数组:\",data_numpy)\n",
    "print(\"data 一个tensor:\",data_tensor)\n",
    "\n",
    "\n",
    "#  deep copy\n",
    "\n",
    "data_numpy_copy=data_numpy.copy()\n",
    "print(\"data_numpy_copy 一个numpy数组:\",data_numpy_copy)\n",
    "print(\"data_numpy_copy 的类型:\",type(data_numpy_copy))\n",
    "\n",
    "data_numpy_copy[0]=102\n",
    "print(\"data_numpy_copy 一个numpy数组:\",data_numpy_copy)\n",
    "print(\"data_numpy 一个numpy数组:\",data_numpy)\n",
    "\n",
    "# "
   ]
  },
  {
   "cell_type": "code",
   "execution_count": null,
   "id": "6615b873",
   "metadata": {},
   "outputs": [
    {
     "name": "stdout",
     "output_type": "stream",
     "text": [
      "data 一个tensor: 1\n"
     ]
    }
   ],
   "source": [
    "# get item frm tenesor just one element\n",
    "data=torch.tensor([1,])\n",
    "print(\"data 一个tensor:\",data.item())"
   ]
  },
  {
   "cell_type": "code",
   "execution_count": 16,
   "id": "151633f7",
   "metadata": {},
   "outputs": [
    {
     "name": "stdout",
     "output_type": "stream",
     "text": [
      "data 一个tensor: tensor([[6, 6, 6],\n",
      "        [6, 9, 9]])\n",
      "data_add 一个tensor: tensor([[ 7,  7,  7],\n",
      "        [ 7, 10, 10]])\n",
      "data_sub 一个tensor: tensor([[5, 5, 5],\n",
      "        [5, 8, 8]])\n",
      "data_mul 一个tensor: tensor([[12, 12, 12],\n",
      "        [12, 18, 18]])\n",
      "data_div 一个tensor: tensor([[3.0000, 3.0000, 3.0000],\n",
      "        [3.0000, 4.5000, 4.5000]])\n",
      "data_pow 一个tensor: tensor([[36, 36, 36],\n",
      "        [36, 81, 81]])\n",
      "data_sqrt 一个tensor: tensor([[2.4495, 2.4495, 2.4495],\n",
      "        [2.4495, 3.0000, 3.0000]])\n",
      "data_exp 一个tensor: tensor([[ 403.4288,  403.4288,  403.4288],\n",
      "        [ 403.4288, 8103.0840, 8103.0840]])\n",
      "data_log 一个tensor: tensor([[1.7918, 1.7918, 1.7918],\n",
      "        [1.7918, 2.1972, 2.1972]])\n",
      "data_sin 一个tensor: tensor([[-0.2794, -0.2794, -0.2794],\n",
      "        [-0.2794,  0.4121,  0.4121]])\n"
     ]
    }
   ],
   "source": [
    "# +-*/\n",
    "data=torch.randint(0,10,(2,3)) # 生成2行3列的随机整数,范围是0-10\n",
    "print(\"data 一个tensor:\",data)\n",
    "# 加法 \n",
    "data_add=data+1\n",
    "print(\"data_add 一个tensor:\",data_add)\n",
    "\n",
    "data_sub=data-1\n",
    "print(\"data_sub 一个tensor:\",data_sub)\n",
    "\n",
    "data_mul=data*2\n",
    "print(\"data_mul 一个tensor:\",data_mul)\n",
    "\n",
    "data_div=data/2\n",
    "print(\"data_div 一个tensor:\",data_div)\n",
    "\n",
    "data_pow=data**2\n",
    "print(\"data_pow 一个tensor:\",data_pow)\n",
    "\n",
    "data_sqrt=data.sqrt()\n",
    "print(\"data_sqrt 一个tensor:\",data_sqrt)\n",
    "\n",
    "data_exp=data.exp()\n",
    "print(\"data_exp 一个tensor:\",data_exp)\n",
    "\n",
    "data_log=data.log()\n",
    "print(\"data_log 一个tensor:\",data_log)\n",
    "\n",
    "data_sin=data.sin()\n",
    "print(\"data_sin 一个tensor:\",data_sin)\n",
    "\n",
    "data_cos=data.cos()"
   ]
  },
  {
   "cell_type": "code",
   "execution_count": null,
   "id": "ec78f469",
   "metadata": {},
   "outputs": [
    {
     "name": "stdout",
     "output_type": "stream",
     "text": [
      "tensor([[1, 2],\n",
      "        [3, 4]]) tensor([[5, 6],\n",
      "        [7, 8]])\n",
      "data1*data2 一个tensor: tensor([[ 5, 12],\n",
      "        [21, 32]])\n",
      "data1.matmul(data2) 一个tensor: tensor([[19, 22],\n",
      "        [43, 50]])\n"
     ]
    },
    {
     "ename": "RuntimeError",
     "evalue": "1D tensors expected, but got 2D and 2D tensors",
     "output_type": "error",
     "traceback": [
      "\u001b[31m---------------------------------------------------------------------------\u001b[39m",
      "\u001b[31mRuntimeError\u001b[39m                              Traceback (most recent call last)",
      "\u001b[36mCell\u001b[39m\u001b[36m \u001b[39m\u001b[32mIn[19]\u001b[39m\u001b[32m, line 12\u001b[39m\n\u001b[32m      9\u001b[39m data4=data1.matmul(data2)\n\u001b[32m     10\u001b[39m \u001b[38;5;28mprint\u001b[39m(\u001b[33m\"\u001b[39m\u001b[33mdata1.matmul(data2) 一个tensor:\u001b[39m\u001b[33m\"\u001b[39m,data4)\n\u001b[32m---> \u001b[39m\u001b[32m12\u001b[39m data5=\u001b[43mdata1\u001b[49m\u001b[43m.\u001b[49m\u001b[43mdot\u001b[49m\u001b[43m(\u001b[49m\u001b[43mdata2\u001b[49m\u001b[43m)\u001b[49m\n\u001b[32m     13\u001b[39m \u001b[38;5;28mprint\u001b[39m(\u001b[33m\"\u001b[39m\u001b[33mdata1.dot(data2) 一个tensor:\u001b[39m\u001b[33m\"\u001b[39m,data5)\n",
      "\u001b[31mRuntimeError\u001b[39m: 1D tensors expected, but got 2D and 2D tensors"
     ]
    }
   ],
   "source": [
    "# .*\n",
    "data1=torch.tensor([[1,2],[3,4]])\n",
    "data2=torch.tensor([[5,6],[7,8]])\n",
    "print(data1,data2)\n",
    "# 点乘\n",
    "data3=data1*data2\n",
    "print(\"data1*data2 一个tensor:\",data3)\n",
    "\n",
    "data4=data1.matmul(data2)\n",
    "print(\"data1.matmul(data2) 一个tensor:\",data4)\n",
    "# 点乘报错   dot() 用于向量点积，matmul() 用于矩阵乘法\n",
    "data5=data1.dot(data2) \n",
    "print(\"data1.dot(data2) 一个tensor:\",data5)"
   ]
  },
  {
   "cell_type": "code",
   "execution_count": null,
   "id": "723eb803",
   "metadata": {},
   "outputs": [
    {
     "name": "stdout",
     "output_type": "stream",
     "text": [
      "tensor([[7, 3, 5, 0, 6],\n",
      "        [0, 8, 7, 3, 0],\n",
      "        [1, 9, 7, 4, 2],\n",
      "        [1, 0, 0, 2, 4]])\n",
      "torch.Size([4, 5])\n",
      "tensor([7, 3, 5, 0, 6])\n",
      "tensor([7, 0, 1, 1])\n",
      "data[0,0] 第一行第一列 tensor(7)\n",
      "data[0,0].item() 第一行第一列的值 7\n",
      "data[0,0]=100 修改后的数据 tensor([[100,   3,   5,   0,   6],\n",
      "        [  0,   8,   7,   3,   0],\n",
      "        [  1,   9,   7,   4,   2],\n",
      "        [  1,   0,   0,   2,   4]])\n",
      "data[0:2,0:3] 切片 tensor([[100,   3,   5],\n",
      "        [  0,   8,   7]])\n"
     ]
    }
   ],
   "source": [
    "# shape\n",
    "data = torch.randint(0,10,[4,5]) # 生成4行5列的随机整数,范围是0-10\n",
    "print(data)\n",
    "print(data.shape)\n",
    "                     \n",
    "print(data[0]) # 第一行\n",
    "print(data[:,0]) # 第一列\n",
    "print(\"data[0,0] 第一行第一列\", data[0,0]) # 第一行第一列\n",
    "print(\"data[0,0].item() 第一行第一列的值\", data[0,0].item()) # 第一行第一列的值\n",
    "\n",
    "# 修改\n",
    "data[0,0]=100\n",
    "print(\"data[0,0]=100 修改后的数据\", data)\n",
    "\n",
    "# 切片\n",
    "print(\"data[0:2,0:3] 切片\", data[0:2,0:3]) # 切片\n",
    "\n",
    "print(data[[0,1],[1,2]]) # 第一行第二列和第二行第三列\n",
    "\n",
    "print(data[[0,1],[1,2]].reshape(2,2)) # 将结果reshape为2行2列\n",
    "\n",
    "print(data[[0,1],[1,2]].reshape(2,2).sum()) # 将结果reshape为2行2列的和"
   ]
  },
  {
   "cell_type": "code",
   "execution_count": null,
   "id": "e169402d",
   "metadata": {},
   "outputs": [
    {
     "name": "stdout",
     "output_type": "stream",
     "text": [
      "tensor([[[0, 7, 9, 7, 7],\n",
      "         [8, 8, 3, 5, 6],\n",
      "         [8, 8, 6, 1, 8],\n",
      "         [1, 3, 5, 9, 9]],\n",
      "\n",
      "        [[3, 9, 1, 8, 0],\n",
      "         [4, 7, 3, 7, 2],\n",
      "         [9, 1, 3, 9, 4],\n",
      "         [9, 4, 9, 4, 2]],\n",
      "\n",
      "        [[9, 8, 7, 4, 1],\n",
      "         [1, 5, 7, 9, 4],\n",
      "         [8, 7, 5, 9, 1],\n",
      "         [2, 5, 9, 5, 4]]])\n",
      "tensor([[0, 7, 9, 7, 7],\n",
      "        [8, 8, 3, 5, 6],\n",
      "        [8, 8, 6, 1, 8],\n",
      "        [1, 3, 5, 9, 9]])\n",
      "tensor([[0, 7, 9, 7, 7],\n",
      "        [3, 9, 1, 8, 0],\n",
      "        [9, 8, 7, 4, 1]])\n",
      "tensor([[0, 8, 8, 1],\n",
      "        [3, 4, 9, 9],\n",
      "        [9, 1, 8, 2]])\n"
     ]
    }
   ],
   "source": [
    "data=torch.randint(0,10,[3,4,5])\n",
    "print(data)\n",
    "# 获取第0轴上的第一个数据\n",
    "print(data[0,:,:])\n",
    "# 获取1轴上的第一个数据\n",
    "print(data[:,0,:])\n",
    "# 获取2轴上的第一个数据\n",
    "print(data[:,:,0])\n"
   ]
  },
  {
   "cell_type": "code",
   "execution_count": null,
   "id": "bcf2b535",
   "metadata": {},
   "outputs": [
    {
     "name": "stdout",
     "output_type": "stream",
     "text": [
      "data tensor([[10, 20, 30],\n",
      "        [40, 50, 60]])\n",
      "data.reshape(3,2) tensor([[10, 20],\n",
      "        [30, 40],\n",
      "        [50, 60]])\n",
      "data.reshape(3,2).squeeze() tensor([[10, 20],\n",
      "        [30, 40],\n",
      "        [50, 60]])\n",
      "data.reshape(3,2).unsqueeze(0) tensor([[[10, 20],\n",
      "         [30, 40],\n",
      "         [50, 60]]])\n",
      "data.reshape(3,2).transpose(0,1) tensor([[10, 30, 50],\n",
      "        [20, 40, 60]])\n",
      "data.reshape(3,2).permute(1,0) tensor([[10, 30, 50],\n",
      "        [20, 40, 60]])\n",
      "torch.cat((data,data),dim=0) tensor([[10, 20, 30],\n",
      "        [40, 50, 60],\n",
      "        [10, 20, 30],\n",
      "        [40, 50, 60]])\n",
      "torch.stack((data,data),dim=0) tensor([[[10, 20, 30],\n",
      "         [40, 50, 60]],\n",
      "\n",
      "        [[10, 20, 30],\n",
      "         [40, 50, 60]]])\n"
     ]
    }
   ],
   "source": [
    "# reshape\n",
    "data =torch.tensor([[10,20,30],[40,50,60]])\n",
    "print(\"data\",data)\n",
    "print(\"data.reshape(3,2)\",data.reshape(3,2))\n",
    "# squeeze 压缩\n",
    "print(\"data.reshape(3,2).squeeze()\",data.reshape(3,2).squeeze())\n",
    "# unsqueeze 解压缩\n",
    "print(\"data.reshape(3,2).unsqueeze(0)\",data.reshape(3,2).unsqueeze(0))\n",
    "# transpose 转置 0,1 表示交换第0轴和第1轴\n",
    "print(\"data.reshape(3,2).transpose(0,1)\",data.reshape(3,2).transpose(0,1))\n",
    "# permute 转置 1,0 表示交换第1轴和第0轴\n",
    "print(\"data.reshape(3,2).permute(1,0)\",data.reshape(3,2).permute(1,0))\n",
    "# cat 拼接\n",
    "print(\"torch.cat((data,data),dim=0)\",torch.cat((data,data),dim=0))\n",
    "# stack 堆叠\n",
    "print(\"torch.stack((data,data),dim=0)\",torch.stack((data,data),dim=0))\n",
    "# cat 拼接"
   ]
  },
  {
   "cell_type": "code",
   "execution_count": 36,
   "id": "70777309",
   "metadata": {},
   "outputs": [
    {
     "name": "stdout",
     "output_type": "stream",
     "text": [
      "data1 tensor([[1, 2, 3],\n",
      "        [4, 5, 6]])\n",
      "data2 tensor([[ 7,  8,  9],\n",
      "        [10, 11, 12]])\n",
      "torch.cat((data1,data2),dim=0) tensor([[ 1,  2,  3],\n",
      "        [ 4,  5,  6],\n",
      "        [ 7,  8,  9],\n",
      "        [10, 11, 12]])\n",
      "torch.cat((data1,data2),dim=1) tensor([[ 1,  2,  3,  7,  8,  9],\n",
      "        [ 4,  5,  6, 10, 11, 12]])\n",
      "data3 tensor([[[ 1,  2,  3],\n",
      "         [ 4,  5,  6]],\n",
      "\n",
      "        [[ 7,  8,  9],\n",
      "         [10, 11, 12]]])\n",
      "data4 tensor([[[ 1,  2,  3],\n",
      "         [ 7,  8,  9]],\n",
      "\n",
      "        [[ 4,  5,  6],\n",
      "         [10, 11, 12]]])\n",
      "torch.stack((data1,data2),dim=0) tensor([[[ 1,  2,  3],\n",
      "         [ 4,  5,  6]],\n",
      "\n",
      "        [[ 7,  8,  9],\n",
      "         [10, 11, 12]]])\n",
      "torch.stack((data1,data2),dim=1) tensor([[[ 1,  2,  3],\n",
      "         [ 7,  8,  9]],\n",
      "\n",
      "        [[ 4,  5,  6],\n",
      "         [10, 11, 12]]])\n"
     ]
    }
   ],
   "source": [
    "# pinjie\n",
    "# dim0 表示在第0轴上拼接 channel\n",
    "# dim1 表示在第1轴上拼接 行\n",
    "# dim2 表示在第2轴上拼接 列\n",
    "data1=torch.tensor([[1,2,3],[4,5,6]])\n",
    "data2=torch.tensor([[7,8,9],[10,11,12]])\n",
    "print(\"data1\",data1)\n",
    "print(\"data2\",data2)\n",
    "print(\"torch.cat((data1,data2),dim=0)\",torch.cat((data1,data2),dim=0))\n",
    "print(\"torch.cat((data1,data2),dim=1)\",torch.cat((data1,data2),dim=1))\n",
    "\n",
    "data3=torch.stack((data1,data2),dim=0)\n",
    "print(\"data3\",data3)\n",
    "\n",
    "data4=torch.stack((data1,data2),dim=1)\n",
    "print(\"data4\",data4)\n",
    "\n",
    "\n",
    "print(\"torch.stack((data1,data2),dim=0)\",torch.stack((data1,data2),dim=0))\n",
    "print(\"torch.stack((data1,data2),dim=1)\",torch.stack((data1,data2),dim=1))"
   ]
  },
  {
   "cell_type": "code",
   "execution_count": 38,
   "id": "da3f54f1",
   "metadata": {},
   "outputs": [
    {
     "name": "stdout",
     "output_type": "stream",
     "text": [
      "w.grad tensor([[ 0.6287,  0.8401, -2.7620],\n",
      "        [ 0.6287,  0.8401, -2.7620],\n",
      "        [ 0.6287,  0.8401, -2.7620],\n",
      "        [ 0.6287,  0.8401, -2.7620],\n",
      "        [ 0.6287,  0.8401, -2.7620]])\n",
      "b.grad tensor([ 0.6287,  0.8401, -2.7620])\n",
      "w tensor([[ 1.4897,  1.5344, -2.0844],\n",
      "        [ 0.1936, -0.5026,  0.8295],\n",
      "        [-0.8298,  0.2244, -1.1924],\n",
      "        [-0.9324,  0.1456, -0.5290],\n",
      "        [ 2.1068,  0.1128,  0.9259]], requires_grad=True)\n",
      "b tensor([-0.1225,  0.6953, -0.9269], requires_grad=True)\n",
      "loss tensor(6.5472, grad_fn=<MseLossBackward0>)\n"
     ]
    }
   ],
   "source": [
    "# autograd\n",
    "\n",
    "import torch\n",
    "x=torch.ones(2,5) # 2行5列\n",
    "y=torch.ones(2,3) # 2行3列\n",
    "w=torch.randn(5,3,requires_grad=True) # 5行3列 需要计算梯度\n",
    "b=torch.randn(3,requires_grad=True) # 3行1列 需要计算梯度\n",
    "\n",
    "# \n",
    "z=torch.matmul(x,w)+b\n",
    "\n",
    "loss=torch.nn.MSELoss() # 均方误差\n",
    "loss=loss(z,y) # 计算损失\n",
    "# 自动求导\n",
    "loss.backward() # 计算梯度\n",
    "print(\"w.grad\",w.grad)\n",
    "print(\"b.grad\",b.grad)\n",
    "\n",
    "# 更新参数\n",
    "w.data=w.data-0.01*w.grad.data\n",
    "b.data=b.data-0.01*b.grad.data\n",
    "\n",
    "# 打印更新后的参数\n",
    "print(\"w\",w)\n",
    "print(\"b\",b)\n",
    "\n",
    "# 打印更新后的损失\n",
    "print(\"loss\",loss)"
   ]
  },
  {
   "cell_type": "code",
   "execution_count": 40,
   "id": "70f47c4f",
   "metadata": {},
   "outputs": [
    {
     "name": "stdout",
     "output_type": "stream",
     "text": [
      "z True\n",
      "tensor(4.)\n",
      "tensor(27.)\n"
     ]
    }
   ],
   "source": [
    "x=torch.tensor(2.0,requires_grad=True)\n",
    "y=torch.tensor(3.0,requires_grad=True)\n",
    "z=x**2+y**3\n",
    "print(\"z\",z.requires_grad)\n",
    "z.backward()\n",
    "print(x.grad)\n",
    "print(y.grad)"
   ]
  },
  {
   "cell_type": "code",
   "execution_count": null,
   "id": "4ee7c6dd",
   "metadata": {},
   "outputs": [],
   "source": [
    "# pytorch 中进行模型构建的流程分4步\n",
    "1. 准备训练集数据\n",
    "2. 构建要使用的模型\n",
    "3. 设置损失函数和优化器\n",
    "4. 模型训练 "
   ]
  },
  {
   "cell_type": "code",
   "execution_count": null,
   "id": "7f2fd71c",
   "metadata": {},
   "outputs": [],
   "source": [
    "# 深度学习和机器学习的关系\n",
    " 深度学习是机器学习的一个子集，主要区别在是否包含特征工程\n",
    "\n",
    "# 神经网络\n",
    "Neural Network 神经网络\n",
    "一种模仿生物神经网络结构和功能的计算模型，由神经元构成 加权和+ 激活函数 w b\n",
    "## 神经网络的组成\n",
    "1. 输入层\n",
    "2. 隐藏层\n",
    "3. 输出层\n",
    "\n",
    "\n",
    "神经信息只向一个方向移动。\n",
    "特点：\n",
    " 1. 同一层的神经元之间没有连接\n",
    " 2. 第N层的每个神经元和第N-1层的所有神经元相连 ，就是全连接神经网络\n",
    " 3. 第N-1层神经元的输出就是第N层神经元的输入\n",
    " 4. 每个连接都有一个权重值。 w系数和b系数\n",
    " \n",
    "# 激活函数\n",
    "激活函数是神经网络中的一种非线性函数，用于将神经元的输入转换为输出。\n",
    "用于对每层的输出数据进行变换，进儿为整个网络注入非线性因素\n",
    "1. 没有引入非线性因素的网络等价于使用一个线性模型来拟合\n",
    "2. 通过给网络输出增加激活函数，实现引入非线性因素，使得网络模型可以逼近任意函数，提升网络对复杂能力的拟合能力\n",
    "\n",
    "激活函数选择\n",
    "1. 隐藏层\n",
    " 优先使用ReLU激活函数\n",
    " 如果ReLU激活函数无法满足需求，再考虑使用其他激活函数比如LeakyReLU\n",
    " 如果使用ReLU激活函数，需要注意Dead ReLU 问题,避免出现大的梯度从而导致过多神经元死亡\n",
    " 尽量少使用sigmoid，可以使用tanh\n",
    "\n",
    "2. 输出层\n",
    "二分类 使用sigmoid\n",
    "多分类 使用softmax\n",
    "回归 使用identity\n",
    "\n",
    "## 神经网络的训练\n",
    "1. 前向传播\n",
    "2. 反向传播\n",
    "3. 更新参数"
   ]
  },
  {
   "cell_type": "code",
   "execution_count": 42,
   "id": "dad2e41b",
   "metadata": {},
   "outputs": [
    {
     "name": "stderr",
     "output_type": "stream",
     "text": [
      "mkdir -p failed for path /Users/haitang/.matplotlib: [Errno 13] Permission denied: '/Users/haitang/.matplotlib'\n",
      "Matplotlib created a temporary cache directory at /var/folders/_8/jk5p0lx90230___0sysn4xzw0000gn/T/matplotlib-pnjsy123 because there was an issue with the default path (/Users/haitang/.matplotlib); it is highly recommended to set the MPLCONFIGDIR environment variable to a writable directory, in particular to speed up the import of Matplotlib and to better support multiprocessing.\n",
      "Matplotlib is building the font cache; this may take a moment.\n"
     ]
    },
    {
     "data": {
      "image/png": "[encoded data removed]",
      "text/plain": [
       "<Figure size 1000x500 with 2 Axes>"
      ]
     },
     "metadata": {},
     "output_type": "display_data"
    }
   ],
   "source": [
    "import torch\n",
    "import matplotlib.pyplot as plt\n",
    "\n",
    "_,axes=plt.subplots(1,2,figsize=(10,5))\n",
    "\n",
    "x=torch.linspace(-10,10,100)\n",
    "y=torch.sigmoid(x)\n",
    "axes[0].plot(x.numpy(),y.numpy())\n",
    "axes[0].set_title(\"sigmoid\")\n",
    "\n",
    "y=torch.tanh(x)\n",
    "axes[1].plot(x.numpy(),y.numpy())\n",
    "axes[1].set_title(\"tanh\")\n",
    "\n",
    "plt.show()"
   ]
  },
  {
   "cell_type": "code",
   "execution_count": 2,
   "id": "c163381f",
   "metadata": {},
   "outputs": [
    {
     "name": "stdout",
     "output_type": "stream",
     "text": [
      "tensor([[ 25,  28],\n",
      "        [ 57,  64],\n",
      "        [ 89, 100]])\n",
      "tensor([[ 25,  28],\n",
      "        [ 57,  64],\n",
      "        [ 89, 100]])\n",
      "tensor([[ 25,  28],\n",
      "        [ 57,  64],\n",
      "        [ 89, 100]])\n"
     ]
    }
   ],
   "source": [
    "import torch\n",
    "\n",
    "data1=torch.tensor([[1,2],[3,4],[5,6]])\n",
    "data2=torch.tensor([[7,8],[9,10],])\n",
    "# 矩阵乘法\n",
    "data3=data1 @ data2\n",
    "print(data3)\n",
    "# \n",
    "data4=data1.matmul(data2)\n",
    "print(data4)\n",
    "# 矩阵乘法\n",
    "data5=data1.mm(data2)\n",
    "print(data5)\n"
   ]
  },
  {
   "cell_type": "code",
   "execution_count": 10,
   "id": "47bcfd8c",
   "metadata": {},
   "outputs": [
    {
     "name": "stdout",
     "output_type": "stream",
     "text": [
      "data1.mean() tensor(3.5000)\n",
      "data1.mean(dim=0) tensor([3., 4.])\n",
      "data1.mean(dim=1) tensor([1.5000, 3.5000, 5.5000])\n",
      "data1.mean(dim=0,keepdim=True) tensor([[3., 4.]])\n",
      "data1.mean(dim=1,keepdim=True) tensor([[1.5000],\n",
      "        [3.5000],\n",
      "        [5.5000]])\n",
      "data1.mean(dim=0,keepdim=True).shape torch.Size([1, 2])\n",
      "data1.mean(dim=1,keepdim=True).shape torch.Size([3, 1])\n"
     ]
    }
   ],
   "source": [
    "import torch\n",
    "\n",
    "data1=torch.tensor([[1,2],[3,4],[5,6]],dtype=torch.float32)\n",
    "print(\"data1.mean()\",data1.mean())\n",
    "print(\"data1.mean(dim=0)\",data1.mean(dim=0))\n",
    "print(\"data1.mean(dim=1)\",data1.mean(dim=1))\n",
    "print(\"data1.mean(dim=0,keepdim=True)\",data1.mean(dim=0,keepdim=True))\n",
    "print(\"data1.mean(dim=1,keepdim=True)\",data1.mean(dim=1,keepdim=True))\n",
    "print(\"data1.mean(dim=0,keepdim=True).shape\",data1.mean(dim=0,keepdim=True).shape)\n",
    "print(\"data1.mean(dim=1,keepdim=True).shape\",data1.mean(dim=1,keepdim=True).shape)\n"
   ]
  },
  {
   "cell_type": "code",
   "execution_count": null,
   "id": "6b58e620",
   "metadata": {},
   "outputs": [],
   "source": []
  },
  {
   "cell_type": "code",
   "execution_count": null,
   "id": "76925281",
   "metadata": {},
   "outputs": [
    {
     "name": "stdout",
     "output_type": "stream",
     "text": [
      "torch.Size([3, 224, 224])\n",
      "torch.Size([3, 224, 224])\n"
     ]
    }
   ],
   "source": [
    "# 创建一个三通道的图像\n",
    "import torch\n",
    "\n",
    "image=torch.randn(3,224,224)\n",
    "print(image.size())\n",
    "\n",
    "# 创建一个三通道的图像\n",
    "image=torch.randn(3,224,224)\n",
    "print(image.shape)\n",
    "\n"
   ]
  },
  {
   "cell_type": "code",
   "execution_count": null,
   "id": "c30c9ab0",
   "metadata": {},
   "outputs": [],
   "source": [
    "import torch\n",
    "data=torch.randint(0,10,[3,4,5])\n"
   ]
  },
  {
   "cell_type": "code",
   "execution_count": 16,
   "id": "e888fcdb",
   "metadata": {},
   "outputs": [
    {
     "name": "stdout",
     "output_type": "stream",
     "text": [
      "torch.Size([4, 1024])\n",
      "tensor([[[[ 0.1823,  0.2058,  0.5280,  ..., -0.7913,  0.7000,  1.1374],\n",
      "          [ 0.5669,  0.2839, -0.3024,  ..., -0.6171,  1.2266,  0.6751],\n",
      "          [ 0.7832,  0.6104, -0.4619,  ..., -0.5004, -0.8361,  0.2440]],\n",
      "\n",
      "         [[ 0.2083, -0.3996, -0.1296,  ..., -1.0638, -0.2578,  0.3325],\n",
      "          [-1.2939, -0.8299,  0.0294,  ...,  1.1185,  1.1175, -0.7880],\n",
      "          [ 0.6163,  0.6668, -1.1332,  ...,  1.8493, -0.5632, -0.4993]],\n",
      "\n",
      "         [[-0.3156, -0.1233,  0.2793,  ...,  0.4187, -0.3848,  0.0870],\n",
      "          [ 0.3947,  0.4887, -0.8932,  ...,  0.0414, -1.0032,  0.0306],\n",
      "          [ 0.2483, -0.2037,  0.4048,  ..., -0.0196,  1.4730, -0.3342]],\n",
      "\n",
      "         ...,\n",
      "\n",
      "         [[-0.9354, -0.6396, -0.4618,  ..., -1.2399,  1.3043,  0.4599],\n",
      "          [ 0.3444,  0.0221, -1.2018,  ..., -0.0283, -1.0952, -0.7777],\n",
      "          [ 1.5354, -0.1057,  0.1045,  ..., -0.1391,  1.7387, -0.8448]],\n",
      "\n",
      "         [[-1.1993,  0.2931,  1.2418,  ...,  2.3781,  0.4762,  0.4999],\n",
      "          [ 1.6642, -1.3132,  1.1972,  ...,  1.1670, -0.0686, -0.3802],\n",
      "          [ 0.6375,  0.5217, -0.3675,  ..., -0.1731,  0.1717, -1.3739]],\n",
      "\n",
      "         [[ 0.4518,  0.0558, -0.2327,  ...,  1.6885,  0.8722,  0.7594],\n",
      "          [-0.7583, -0.3751, -0.1837,  ...,  2.3439,  1.0311,  1.7236],\n",
      "          [-0.5272, -1.0444, -1.0381,  ..., -0.0629, -0.6911, -0.4323]]]])\n"
     ]
    }
   ],
   "source": [
    "x = torch.randn(4, 32, 32)  # [批次, 通道, 高, 宽]\n",
    "x_flatten = x.view(4, -1)   # 形状变为[4, 1024]\n",
    "print(x_flatten.shape)\n",
    "\n",
    "image =torch.randn(3,224,224)\n",
    "# 转换成[批次, 通道, 高, 宽]\n",
    "image=  image.permute(2,0,1).unsqueeze(0)\n",
    "print(image)"
   ]
  },
  {
   "cell_type": "code",
   "execution_count": null,
   "id": "25ceaa97",
   "metadata": {},
   "outputs": [],
   "source": []
  },
  {
   "cell_type": "markdown",
   "id": "a54e222a",
   "metadata": {},
   "source": [
    "形状操作的具体意义：\n",
    "\n",
    "​调整维度数量和大小​：例如，将一维张量[1,2,3]变成二维张量[[1],[2],[3]]（通过unsqueeze或view）。\n",
    "​重新排列维度顺序​：例如，将形状为[通道, 高, 宽]的图片张量变为[高, 宽, 通道]（通过permute）。\n",
    "​压缩或扩展维度​：去除长度为1的维度（squeeze）或增加长度为1的维度（unsqueeze）。\n",
    "​数据重排（不改变数据，只改变视图）​​：view和reshape可以在不改变数据的情况下改变形状（但需保证元素总数不变）。\n",
    "​转置操作​：交换两个维度（如矩阵的转置）。\n",
    "为什么需要这些操作：\n",
    "\n",
    "​适应模型输入要求​：神经网络各层对输入的形状有特定要求。例如，全连接层通常要求输入是二维的（批量大小，特征数），而卷积层可能需要四维输入（批量大小，通道数，高，宽）。\n",
    "​数据预处理​：原始数据（如文本、图像）需转换为特定形状才能输入模型。\n",
    "例：图像数据通常为(高,宽,通道)，但PyTorch卷积层要求(批量大小, 通道数, 高, 宽)，因此需要转置。\n",
    "​层间连接适配​：前一层输出形状与下一层输入形状需匹配。\n",
    "例：卷积层输出四维张量，全连接层需要二维，需通过flatten或view将四维压成二维。\n",
    "​广播机制（Broadcasting）​​：形状操作可使不同形状张量满足广播条件进行运算（如自动扩展维度）。\n",
    "​性能优化​：改变数据在内存中的排列顺序（如contiguous配合view）可加速计算（内存连续访问更快）。\n",
    "​模型结构变换​：如在注意力机制中，使用permute调整维度顺序便于矩阵相乘。\n",
    "常用操作举例（PyTorch）：\n",
    "\n",
    "view / reshape：改变形状（view要求内存连续，reshape不要求）。\n",
    "permute(dims)：任意调整维度顺序，如tensor.permute(0,2,1)。\n",
    "transpose(dim0, dim1)：交换两个维度。\n",
    "unsqueeze(dim)：在指定位置增加一个维度（长度为1）。\n",
    "squeeze(dim)：去除指定位置（或所有）长度为1的维度。\n",
    "flatten(start_dim, end_dim)：将连续多个维度展平。\n",
    "示例说明：\n",
    "\n",
    "假设有一个图像张量img形状为(3, 28, 28)（通道数，高，宽），而模型输入要求(批量大小, 通道数, 高, 宽)。\n",
    "\n",
    "# 增加一个批量维度（在最前面）\n",
    "img_batched = img.unsqueeze(0)  # 形状变为(1, 3, 28, 28)\n",
    "\n",
    "# 如果模型要求通道在最后，则需调整：\n",
    "img_transposed = img_batched.permute(0, 2, 3, 1)  # 形状(1,28,28,3)\n",
    "再如：将卷积输出送入全连接层：\n",
    "\n",
    "conv_out = torch.randn(4, 64, 7, 7)  # 批量大小4, 通道64, 高7, 宽7\n",
    "# 展平除批量外的所有维度\n",
    "fc_input = conv_out.view(4, -1)  # 形状变为(4, 64 * 7 * 7) = (4,3136)\n",
    "注意事项：\n",
    "\n",
    "形状操作需保证元素总数不变（view/reshape/flatten）。\n",
    "某些操作（如transpose）可能使张量内存不连续，需contiguous()后才能用view。\n",
    "形状操作通常不复制数据（视图共享数据），但permute、transpose等会改变步长（stride）和内存布局，可能影响性能。\n",
    "掌握形状操作是深度学习编程的基础，它使你能灵活处理数据流经模型各层时的形态变化。\n"
   ]
  },
  {
   "cell_type": "code",
   "execution_count": null,
   "id": "9f3b9afe",
   "metadata": {},
   "outputs": [
    {
     "data": {
      "image/png": "[encoded data removed]",
      "text/plain": [
       "<Figure size 640x480 with 1 Axes>"
      ]
     },
     "metadata": {},
     "output_type": "display_data"
    }
   ],
   "source": [
    "import torch\n",
    "import matplotlib.pyplot as plt\n",
    "x=torch.linspace(-20,20,1000)\n",
    "y_sigmoid=torch.sigmoid(x)\n",
    "y_tanh=torch.tanh(x)\n",
    "y_relu=torch.relu(x)\n",
    "y_softmax=torch.softmax(x,dim=0)\n",
    "plt.plot(x.numpy(),y_sigmoid.numpy(),label='sigmoid')\n",
    "plt.plot(x.numpy(),y_tanh.numpy(),label='tanh')\n",
    "plt.plot(x.numpy(),y_relu.numpy(),label='relu')\n",
    "plt.plot(x.numpy(),y_softmax.numpy(),label='softmax')\n",
    "plt.legend()\n",
    "\n",
    "plt.show()"
   ]
  },
  {
   "cell_type": "code",
   "execution_count": null,
   "id": "30726a03",
   "metadata": {},
   "outputs": [],
   "source": [
    "# 权重初始化 "
   ]
  },
  {
   "cell_type": "markdown",
   "id": "8b94ba62",
   "metadata": {},
   "source": [
    "为什么需要权重初始化？\n",
    "\n",
    "​打破对称性​：如果所有权重初始化为相同值（如全零），那么同一层的所有神经元在前向传播中会计算出相同的输出，在反向传播中也会得到相同的梯度，导致所有神经元学到的特征完全一致。这相当于网络退化为一个神经元，严重削弱模型的表达能力。\n",
    "​控制信号传播​：初始化会影响前向传播中激活值的分布和反向传播中梯度的分布。初始化过大或过小都会引发问题：\n",
    "​过大​：导致激活值过大（尤其是深层网络），引发梯度爆炸（输出值趋向于饱和区，梯度趋近零）\n",
    "​过小​：激活值逐层衰减，导致梯度消失（权重更新几乎停止）\n",
    "​加速收敛​：合理的初始化能使模型更快达到良好的解，减少训练时间。"
   ]
  },
  {
   "cell_type": "markdown",
   "id": "5e1b2d69",
   "metadata": {},
   "source": [
    "机器学习的基础知识\n",
    "大模型算法\n"
   ]
  },
  {
   "cell_type": "code",
   "execution_count": null,
   "id": "07075c5f",
   "metadata": {},
   "outputs": [
    {
     "name": "stdout",
     "output_type": "stream",
     "text": [
      "tensor([[ 0.1436, -0.0430,  0.0680,  0.2224,  0.1467, -0.1787,  0.0443, -0.2188,\n",
      "         -0.1345, -0.2236]], grad_fn=<AddmmBackward0>)\n"
     ]
    }
   ],
   "source": [
    "# nn.Module\n",
    "## __init__ 初始化 主要是全连接层  \n",
    "## forward  在实例化模型的时候，底层会自动\n",
    "import torch\n",
    "import torch.nn as nn\n",
    "\n",
    "\n",
    "class MyModel(nn.Module):\n",
    "    def __init__(self):\n",
    "        super(MyModel, self).__init__() # 调用父类初始化\n",
    "        # 创建一个隐藏层\n",
    "        self.hidden = nn.Linear(10, 20) # 创建一个全连接层\n",
    "        # 创建一个输出层\n",
    "        self.output = nn.Linear(20, 10) # 创建一个全连接层\n",
    "\n",
    "    def forward(self, x):\n",
    "        x = self.hidden(x) # 前向传播\n",
    "        x = self.output(x) # 前向传播\n",
    "        return x\n",
    "\n",
    "# 创建模型实例\n",
    "model = MyModel()\n",
    "\n",
    "# 创建输入数据\n",
    "x = torch.randn(1, 10)\n",
    "\n",
    "# 前向传播\n",
    "output = model(x)\n",
    "print(output)\n",
    "\n",
    "\n"
   ]
  },
  {
   "cell_type": "code",
   "execution_count": 26,
   "id": "3f76b866",
   "metadata": {},
   "outputs": [
    {
     "name": "stdout",
     "output_type": "stream",
     "text": [
      "tensor([[-0.4589,  1.2379, -0.3150],\n",
      "        [-2.0457,  0.1403,  1.6173],\n",
      "        [-1.1545, -0.2991, -0.2907],\n",
      "        [-2.3632, -0.6860,  0.3307],\n",
      "        [ 1.2201,  1.5864,  1.9533]])\n",
      "tensor([[0.3096, 0.6904],\n",
      "        [0.2790, 0.7210],\n",
      "        [0.2988, 0.7012],\n",
      "        [0.2794, 0.7206],\n",
      "        [0.3364, 0.6636]], grad_fn=<SoftmaxBackward0>)\n",
      "torch.Size([5, 2])\n",
      "----------------------------------------------------------------\n",
      "        Layer (type)               Output Shape         Param #\n",
      "================================================================\n",
      "            Linear-1                     [5, 3]              12\n",
      "            Linear-2                     [5, 2]               8\n",
      "            Linear-3                     [5, 2]               6\n",
      "================================================================\n",
      "Total params: 26\n",
      "Trainable params: 26\n",
      "Non-trainable params: 0\n",
      "----------------------------------------------------------------\n",
      "Input size (MB): 0.00\n",
      "Forward/backward pass size (MB): 0.00\n",
      "Params size (MB): 0.00\n",
      "Estimated Total Size (MB): 0.00\n",
      "----------------------------------------------------------------\n",
      "linear1.weight torch.Size([3, 3])\n",
      "linear1.bias torch.Size([3])\n",
      "linear2.weight torch.Size([2, 3])\n",
      "linear2.bias torch.Size([2])\n",
      "out.weight torch.Size([2, 2])\n",
      "out.bias torch.Size([2])\n"
     ]
    }
   ],
   "source": [
    "import torch\n",
    "import torch.nn as nn\n",
    "from torchsummary import summary\n",
    "\n",
    "class MyModel(nn.Module):\n",
    "    def __init__(self):\n",
    "        super(MyModel, self).__init__()\n",
    "        self.linear1 = nn.Linear(3,3) # 创建一个隐藏层 3个输入特征 3个输出特征\n",
    "        nn.init.xavier_uniform_(self.linear1.weight) # 初始化权重\n",
    "        nn.init.zeros_(self.linear1.bias) # 初始化偏置\n",
    "        self.linear2 = nn.Linear(3,2) # 创建一个隐藏层 3个输入特征 2个输出特征\n",
    "        nn.init.kaiming_normal_(self.linear2.weight) # 初始化权重\n",
    "        self.out=nn.Linear(2,2) # 创建一个输出层 2个输入特征 2个输出特征\n",
    "\n",
    "    def forward(self, x):\n",
    "        x=self.linear1(x) # 线性变换 经过第一个线性层\n",
    "        x=torch.sigmoid(x) # 激活函数 经过第一个激活函数\n",
    "        x=self.linear2(x) # 线性变换 经过第二个线性层\n",
    "        x=torch.relu(x) # 激活函数 经过第二个激活函数\n",
    "        x=self.out(x) # 线性变换 经过第三个线性层\n",
    "        x=torch.softmax(x,dim=-1) # 激活函数 经过第三个激活函数 每一维度行数据相加为1\n",
    "        return x\n",
    "\n",
    "model=MyModel()\n",
    "mydata=torch.randn(5,3)\n",
    "print(mydata)\n",
    "output=model(mydata)\n",
    "print(output)\n",
    "print(output.shape)\n",
    "summary(model,input_size=(3,),batch_size=5)\n",
    "\n",
    "for name,param in model.named_parameters():\n",
    "    print(name,param.shape)\n"
   ]
  },
  {
   "cell_type": "code",
   "execution_count": null,
   "id": "d0268d72",
   "metadata": {},
   "outputs": [],
   "source": [
    "神经网络中的参数包括 权重和偏置\n",
    "\n",
    "权重的计算公式为：\n",
    "权重 = 输入特征数 × 输出特征数\n",
    "\n",
    "偏置的计算公式为：\n",
    "偏置 = 输出特征数\n",
    "\n",
    "所以，神经网络中的参数数量为：\n",
    "参数数量 = 权重 + 偏置\n",
    "\n",
    "\n",
    "假设一个隐藏层有3个神经元，每个神经元参数就是4个  3个神经元+1个偏置"
   ]
  },
  {
   "cell_type": "markdown",
   "id": "d1ff4046",
   "metadata": {},
   "source": [
    "参数量 param 就是有多少条线连起来 其实就是 （3+1）*3 =12\n",
    "每个线性层的参数数量由权重(weight)和偏置(bias)组成，计算公式为：\n",
    "参数数量 = (输入特征数 × 输出特征数) + 输出特征数（如果有偏置）\n",
    "\n",
    "linear1: 输入3，输出3 -> 参数数量 = (3 * 3) + 3 = 12\n",
    "权重：3×3的矩阵，所以9个参数；偏置：3个参数，共12。\n",
    "linear2: 输入3，输出2 -> 参数数量 = (3 * 2) + 2 = 8\n",
    "权重：3×2的矩阵，6个参数；偏置：2个参数，共8。\n",
    "out: 输入2，输出2 -> 参数数量 = (2 * 2) + 2 = 6\n",
    "权重：2×2的矩阵，4个参数；偏置：2个参数，共6。\n",
    "\n"
   ]
  },
  {
   "cell_type": "code",
   "execution_count": null,
   "id": "4107013f",
   "metadata": {},
   "outputs": [],
   "source": []
  },
  {
   "cell_type": "markdown",
   "id": "08cb21c3",
   "metadata": {},
   "source": [
    "神经元搭建方法\n",
    "继承nn.Module\n",
    "在init中定义网络层\n",
    "在forward中定义网络层的前向传播\n",
    "\n",
    "Class MyModel(nn.Module):\n",
    "    def __init__(self):\n",
    "        super(MyModel, self).__init__()\n",
    "        self.linear1 = nn.Linear(3,3)\n",
    "        self.linear2 = nn.Linear(3,2)\n",
    "        self.out = nn.Linear(2,2)\n",
    "\n",
    "    def forward(self, x):\n",
    "        x = self.linear1(x)\n",
    "        x = self.linear2(x)\n",
    "        x = self.out(x)\n",
    "\n",
    "网络参数量的统计方法\n",
    "统计每层的w和b\n",
    "\n",
    "\n",
    "神经网络优缺点\n",
    "1. 精度高\n",
    "2. 近似任意的非线性函数的计算机硬件发展\n",
    "3. 有大量的框架和库\n",
    "\n",
    "缺点\n",
    "1. 黑箱，很难解释模型的工作情况\n",
    "2. 训练时间长，需要大量的计算资源\n",
    "3. 网络结构复杂，需要调整超参数\n",
    "4. 部分数据集上表现不佳，容易发生过拟合\n",
    "\n"
   ]
  },
  {
   "cell_type": "markdown",
   "id": "cad8db27",
   "metadata": {},
   "source": [
    "# 损失函数\n",
    "用来衡量模型的预测值与真实值之间的差异\n",
    "\n",
    "多分类使用softmax讲logits 转换成概率的形式  \n",
    "\n",
    "softmax损失 \n",
    " nn.CrossEntropyLoss() # 交叉熵损失函数\n",
    " \n"
   ]
  },
  {
   "cell_type": "code",
   "execution_count": 3,
   "id": "5dcf3b66",
   "metadata": {},
   "outputs": [
    {
     "ename": "IndexError",
     "evalue": "Target 2 is out of bounds.",
     "output_type": "error",
     "traceback": [
      "\u001b[31m---------------------------------------------------------------------------\u001b[39m",
      "\u001b[31mIndexError\u001b[39m                                Traceback (most recent call last)",
      "\u001b[36mCell\u001b[39m\u001b[36m \u001b[39m\u001b[32mIn[3]\u001b[39m\u001b[32m, line 12\u001b[39m\n\u001b[32m      9\u001b[39m     loss_value=loss(y_pred,y).numpy()\n\u001b[32m     10\u001b[39m     \u001b[38;5;28mprint\u001b[39m(loss_value)\n\u001b[32m---> \u001b[39m\u001b[32m12\u001b[39m \u001b[43mtest\u001b[49m\u001b[43m(\u001b[49m\u001b[43m)\u001b[49m\n",
      "\u001b[36mCell\u001b[39m\u001b[36m \u001b[39m\u001b[32mIn[3]\u001b[39m\u001b[32m, line 9\u001b[39m, in \u001b[36mtest\u001b[39m\u001b[34m()\u001b[39m\n\u001b[32m      7\u001b[39m y_pred=torch.tensor([[\u001b[32m0.1\u001b[39m,\u001b[32m0.2\u001b[39m],[\u001b[32m0.3\u001b[39m,\u001b[32m0.4\u001b[39m]],dtype=torch.float32)\n\u001b[32m      8\u001b[39m loss=nn.CrossEntropyLoss()\n\u001b[32m----> \u001b[39m\u001b[32m9\u001b[39m loss_value=\u001b[43mloss\u001b[49m\u001b[43m(\u001b[49m\u001b[43my_pred\u001b[49m\u001b[43m,\u001b[49m\u001b[43my\u001b[49m\u001b[43m)\u001b[49m.numpy()\n\u001b[32m     10\u001b[39m \u001b[38;5;28mprint\u001b[39m(loss_value)\n",
      "\u001b[36mFile \u001b[39m\u001b[32m~/code/LearnAi/aidemo/.venv/lib/python3.13/site-packages/torch/nn/modules/module.py:1751\u001b[39m, in \u001b[36mModule._wrapped_call_impl\u001b[39m\u001b[34m(self, *args, **kwargs)\u001b[39m\n\u001b[32m   1749\u001b[39m     \u001b[38;5;28;01mreturn\u001b[39;00m \u001b[38;5;28mself\u001b[39m._compiled_call_impl(*args, **kwargs)  \u001b[38;5;66;03m# type: ignore[misc]\u001b[39;00m\n\u001b[32m   1750\u001b[39m \u001b[38;5;28;01melse\u001b[39;00m:\n\u001b[32m-> \u001b[39m\u001b[32m1751\u001b[39m     \u001b[38;5;28;01mreturn\u001b[39;00m \u001b[38;5;28;43mself\u001b[39;49m\u001b[43m.\u001b[49m\u001b[43m_call_impl\u001b[49m\u001b[43m(\u001b[49m\u001b[43m*\u001b[49m\u001b[43margs\u001b[49m\u001b[43m,\u001b[49m\u001b[43m \u001b[49m\u001b[43m*\u001b[49m\u001b[43m*\u001b[49m\u001b[43mkwargs\u001b[49m\u001b[43m)\u001b[49m\n",
      "\u001b[36mFile \u001b[39m\u001b[32m~/code/LearnAi/aidemo/.venv/lib/python3.13/site-packages/torch/nn/modules/module.py:1762\u001b[39m, in \u001b[36mModule._call_impl\u001b[39m\u001b[34m(self, *args, **kwargs)\u001b[39m\n\u001b[32m   1757\u001b[39m \u001b[38;5;66;03m# If we don't have any hooks, we want to skip the rest of the logic in\u001b[39;00m\n\u001b[32m   1758\u001b[39m \u001b[38;5;66;03m# this function, and just call forward.\u001b[39;00m\n\u001b[32m   1759\u001b[39m \u001b[38;5;28;01mif\u001b[39;00m \u001b[38;5;129;01mnot\u001b[39;00m (\u001b[38;5;28mself\u001b[39m._backward_hooks \u001b[38;5;129;01mor\u001b[39;00m \u001b[38;5;28mself\u001b[39m._backward_pre_hooks \u001b[38;5;129;01mor\u001b[39;00m \u001b[38;5;28mself\u001b[39m._forward_hooks \u001b[38;5;129;01mor\u001b[39;00m \u001b[38;5;28mself\u001b[39m._forward_pre_hooks\n\u001b[32m   1760\u001b[39m         \u001b[38;5;129;01mor\u001b[39;00m _global_backward_pre_hooks \u001b[38;5;129;01mor\u001b[39;00m _global_backward_hooks\n\u001b[32m   1761\u001b[39m         \u001b[38;5;129;01mor\u001b[39;00m _global_forward_hooks \u001b[38;5;129;01mor\u001b[39;00m _global_forward_pre_hooks):\n\u001b[32m-> \u001b[39m\u001b[32m1762\u001b[39m     \u001b[38;5;28;01mreturn\u001b[39;00m \u001b[43mforward_call\u001b[49m\u001b[43m(\u001b[49m\u001b[43m*\u001b[49m\u001b[43margs\u001b[49m\u001b[43m,\u001b[49m\u001b[43m \u001b[49m\u001b[43m*\u001b[49m\u001b[43m*\u001b[49m\u001b[43mkwargs\u001b[49m\u001b[43m)\u001b[49m\n\u001b[32m   1764\u001b[39m result = \u001b[38;5;28;01mNone\u001b[39;00m\n\u001b[32m   1765\u001b[39m called_always_called_hooks = \u001b[38;5;28mset\u001b[39m()\n",
      "\u001b[36mFile \u001b[39m\u001b[32m~/code/LearnAi/aidemo/.venv/lib/python3.13/site-packages/torch/nn/modules/loss.py:1297\u001b[39m, in \u001b[36mCrossEntropyLoss.forward\u001b[39m\u001b[34m(self, input, target)\u001b[39m\n\u001b[32m   1296\u001b[39m \u001b[38;5;28;01mdef\u001b[39;00m\u001b[38;5;250m \u001b[39m\u001b[34mforward\u001b[39m(\u001b[38;5;28mself\u001b[39m, \u001b[38;5;28minput\u001b[39m: Tensor, target: Tensor) -> Tensor:\n\u001b[32m-> \u001b[39m\u001b[32m1297\u001b[39m     \u001b[38;5;28;01mreturn\u001b[39;00m \u001b[43mF\u001b[49m\u001b[43m.\u001b[49m\u001b[43mcross_entropy\u001b[49m\u001b[43m(\u001b[49m\n\u001b[32m   1298\u001b[39m \u001b[43m        \u001b[49m\u001b[38;5;28;43minput\u001b[39;49m\u001b[43m,\u001b[49m\n\u001b[32m   1299\u001b[39m \u001b[43m        \u001b[49m\u001b[43mtarget\u001b[49m\u001b[43m,\u001b[49m\n\u001b[32m   1300\u001b[39m \u001b[43m        \u001b[49m\u001b[43mweight\u001b[49m\u001b[43m=\u001b[49m\u001b[38;5;28;43mself\u001b[39;49m\u001b[43m.\u001b[49m\u001b[43mweight\u001b[49m\u001b[43m,\u001b[49m\n\u001b[32m   1301\u001b[39m \u001b[43m        \u001b[49m\u001b[43mignore_index\u001b[49m\u001b[43m=\u001b[49m\u001b[38;5;28;43mself\u001b[39;49m\u001b[43m.\u001b[49m\u001b[43mignore_index\u001b[49m\u001b[43m,\u001b[49m\n\u001b[32m   1302\u001b[39m \u001b[43m        \u001b[49m\u001b[43mreduction\u001b[49m\u001b[43m=\u001b[49m\u001b[38;5;28;43mself\u001b[39;49m\u001b[43m.\u001b[49m\u001b[43mreduction\u001b[49m\u001b[43m,\u001b[49m\n\u001b[32m   1303\u001b[39m \u001b[43m        \u001b[49m\u001b[43mlabel_smoothing\u001b[49m\u001b[43m=\u001b[49m\u001b[38;5;28;43mself\u001b[39;49m\u001b[43m.\u001b[49m\u001b[43mlabel_smoothing\u001b[49m\u001b[43m,\u001b[49m\n\u001b[32m   1304\u001b[39m \u001b[43m    \u001b[49m\u001b[43m)\u001b[49m\n",
      "\u001b[36mFile \u001b[39m\u001b[32m~/code/LearnAi/aidemo/.venv/lib/python3.13/site-packages/torch/nn/functional.py:3494\u001b[39m, in \u001b[36mcross_entropy\u001b[39m\u001b[34m(input, target, weight, size_average, ignore_index, reduce, reduction, label_smoothing)\u001b[39m\n\u001b[32m   3492\u001b[39m \u001b[38;5;28;01mif\u001b[39;00m size_average \u001b[38;5;129;01mis\u001b[39;00m \u001b[38;5;129;01mnot\u001b[39;00m \u001b[38;5;28;01mNone\u001b[39;00m \u001b[38;5;129;01mor\u001b[39;00m reduce \u001b[38;5;129;01mis\u001b[39;00m \u001b[38;5;129;01mnot\u001b[39;00m \u001b[38;5;28;01mNone\u001b[39;00m:\n\u001b[32m   3493\u001b[39m     reduction = _Reduction.legacy_get_string(size_average, reduce)\n\u001b[32m-> \u001b[39m\u001b[32m3494\u001b[39m \u001b[38;5;28;01mreturn\u001b[39;00m \u001b[43mtorch\u001b[49m\u001b[43m.\u001b[49m\u001b[43m_C\u001b[49m\u001b[43m.\u001b[49m\u001b[43m_nn\u001b[49m\u001b[43m.\u001b[49m\u001b[43mcross_entropy_loss\u001b[49m\u001b[43m(\u001b[49m\n\u001b[32m   3495\u001b[39m \u001b[43m    \u001b[49m\u001b[38;5;28;43minput\u001b[39;49m\u001b[43m,\u001b[49m\n\u001b[32m   3496\u001b[39m \u001b[43m    \u001b[49m\u001b[43mtarget\u001b[49m\u001b[43m,\u001b[49m\n\u001b[32m   3497\u001b[39m \u001b[43m    \u001b[49m\u001b[43mweight\u001b[49m\u001b[43m,\u001b[49m\n\u001b[32m   3498\u001b[39m \u001b[43m    \u001b[49m\u001b[43m_Reduction\u001b[49m\u001b[43m.\u001b[49m\u001b[43mget_enum\u001b[49m\u001b[43m(\u001b[49m\u001b[43mreduction\u001b[49m\u001b[43m)\u001b[49m\u001b[43m,\u001b[49m\n\u001b[32m   3499\u001b[39m \u001b[43m    \u001b[49m\u001b[43mignore_index\u001b[49m\u001b[43m,\u001b[49m\n\u001b[32m   3500\u001b[39m \u001b[43m    \u001b[49m\u001b[43mlabel_smoothing\u001b[49m\u001b[43m,\u001b[49m\n\u001b[32m   3501\u001b[39m \u001b[43m\u001b[49m\u001b[43m)\u001b[49m\n",
      "\u001b[31mIndexError\u001b[39m: Target 2 is out of bounds."
     ]
    }
   ],
   "source": [
    "import torch\n",
    "import torch.nn as nn\n",
    "\n",
    "\n",
    "def test():\n",
    "    y=torch.tensor([1,2],dtype=torch.int64)\n",
    "    y_pred=torch.tensor([[0.1,0.2],[0.3,0.4]],dtype=torch.float32)\n",
    "    loss=nn.CrossEntropyLoss()\n",
    "    loss_value=loss(y_pred,y).numpy()\n",
    "    print(loss_value)\n",
    "\n",
    "test()"
   ]
  },
  {
   "cell_type": "markdown",
   "id": "c6370d3b",
   "metadata": {},
   "source": [
    "二分类\n",
    "nn.BCELoss() # 二分类交叉熵损失函数\n",
    "\n",
    "多分类\n",
    "nn.CrossEntropyLoss() # 交叉熵损失函数\n",
    "\n",
    "回归 \n",
    "nn.MSELoss() # 均方误差损失函数\n",
    "\n",
    "\n",
    "# 平均绝对误差损失函数 绝对误差\n",
    "nn.L1Loss() \n"
   ]
  },
  {
   "cell_type": "code",
   "execution_count": null,
   "id": "ec24c26e",
   "metadata": {},
   "outputs": [],
   "source": [
    "    "
   ]
  },
  {
   "cell_type": "markdown",
   "id": "e70b5ee3",
   "metadata": {},
   "source": [
    "# 梯度下降的思想\n",
    "网络优化 使损失函数最小的方法\n",
    "\n",
    "\n",
    "# 梯度下降算法\n",
    "1.epoch: 所有数据训练一次 使用全部数据\n",
    "2.batch: 一批数据 （batch_size） 一次训练的数据\n",
    "3.iteration: 一次训练 （batch_size * epoch） 使用一个batch数据对模型进行一次参数更新过程\n",
    "\n",
    "5000个训练样本，batch_size=100，训练集的batch个数就是5000/100=50\n",
    "每个epoch的iteration就是50=5000/100（epoch/batch_size）\n",
    "\n",
    "mini-batch: training set Size / batch_size = number of batches  \n",
    "            N          /         B      N/B+1 （N/B向上取整）\n",
    "\n",
    "4.learning rate: 学习率\n",
    "5.loss: 损失函数\n",
    "6.optimizer: 优化器\n",
    "7.model: 模型\n",
    "8.data: 数据\n",
    "9.label: 标签\n",
    "10.feature: 特征"
   ]
  },
  {
   "cell_type": "markdown",
   "id": "e96feebe",
   "metadata": {},
   "source": []
  },
  {
   "cell_type": "markdown",
   "id": "a73bce73",
   "metadata": {},
   "source": [
    "反向传播\n",
    "\n",
    "Back Propagation 使用损失函数error 从后向前，结合梯度下降算法，依次求各个参数的偏导"
   ]
  },
  {
   "cell_type": "markdown",
   "id": "4029ac01",
   "metadata": {},
   "source": [
    "激活函数算结果\n",
    "反向传播算导数和偏导"
   ]
  },
  {
   "cell_type": "code",
   "execution_count": 3,
   "id": "3f153a70",
   "metadata": {},
   "outputs": [
    {
     "name": "stdout",
     "output_type": "stream",
     "text": [
      "x.grad tensor([[-0.0122, -0.0164, -0.0205]])\n",
      "w.grad tensor([[ 0.0014, -0.0019,  0.0004],\n",
      "        [ 0.0027, -0.0038,  0.0008],\n",
      "        [ 0.0041, -0.0057,  0.0012]])\n",
      "b.grad tensor([ 0.0135, -0.0190,  0.0041])\n"
     ]
    }
   ],
   "source": [
    "import torch\n",
    "import torch.nn as nn\n",
    "import torch.nn.functional as F\n",
    "\n",
    "x= torch.tensor([[0.1,0.2,0.3]],requires_grad=True)\n",
    "w= torch.tensor([[1.0,2.0,3.0],[4.0,5.0,6.0],[7.0,8.0,9.0]],requires_grad=True)\n",
    "b= torch.tensor([0.1,-0.1,0.2],requires_grad=True)\n",
    "\n",
    "y=torch.sigmoid(x@w+b) # 激活函数算结果 x@w 是矩阵乘法，@是矩阵乘法运算符，w是权重矩阵，b是偏置向量\n",
    "target =torch.tensor([[0.0,1.0,0.0]])\n",
    "loss =F.cross_entropy(y,target) # 交叉熵损失函数\n",
    "\n",
    "loss.backward() # 反向传播\n",
    "\n",
    "print(\"x.grad\",x.grad)\n",
    "print(\"w.grad\",w.grad)\n",
    "print(\"b.grad\",b.grad)"
   ]
  },
  {
   "cell_type": "code",
   "execution_count": null,
   "id": "4953be27",
   "metadata": {},
   "outputs": [],
   "source": [
    "优化器 无脑用adam优化器  超参数设定 betas1=0.9 betas2=0.999\n",
    "class torch.optim.Adam(params, lr=0.001, betas=(0.9, 0.999), eps=1e-08, weight_decay=0, amsgrad=False)\n",
    "\n",
    "\n",
    "\n",
    "前向计算中不缓存计算过程中的值 就无法反向计算出梯度\n",
    "使用场景是1.冻结网络中的某些参数 2. 模型应用推理时，加速计算\n",
    "\n",
    "with torch.no_grad():\n",
    "    z =torch.matmul(x,w)+b\n",
    "    \n",
    "\n",
    "\n",
    "\n",
    "\n",
    "\n",
    "\n",
    "\n",
    "\n"
   ]
  },
  {
   "cell_type": "markdown",
   "id": "10117d8b",
   "metadata": {},
   "source": [
    "梯度下降优化方法\n",
    "1. 平缓区域，梯度较小，参数优化变慢\n",
    "2. 鞍点 梯度为0 参数无法优化\n",
    "3. 碰到局部最小值，参数不是最优\n",
    "\n",
    "指数加权平均：\n",
    "momentum 动量法 对梯度进行指数加权平均，整体学习率逐渐减小\n",
    "adaGrad通过对不同的参数分量使用不同的学习率，整体学习率逐渐减小\n",
    "RMSProp 对adaGrad的改进，对梯度进行指数加权平均，整体学习率逐渐减小\n",
    "Adam  adaptive Moment estimation 对momentum和RMSProp的改进，对梯度进行指数加权平均，整体学习率逐渐减小\n",
    "\n",
    "学习率衰减  是指对优化器内部的参数进行衰减  \n",
    "1. 等间隔衰减 每训练若干个epoch，学习率衰减一次  lr \n",
    "2. 指定间隔学习率衰减  \n",
    "3. 指数衰减 学习率乘以一个衰减率 exponentialLR \n",
    " \n",
    "\n",
    "\n",
    "正则化\n",
    "把极端情况去除\n",
    "范数 \n",
    "范数乘法\n",
    "DropOut  随机失活 让神经元以超参数P的概率停止工作或者激活被置0，未被置0的进行缩放，缩放比例为1/（1-p）\n",
    "在测试过程中，随机失活不生效\n",
    "nn.Dropout(p=0.5) \n",
    "特殊网络层 批量归一化 BN层 对输入数据进行归一化，使得数据分布在0-1之间，加速收敛\n",
    "BN作用 对数据标准化，再对数据重构\n",
    "\n",
    "\n",
    "\n",
    "\n"
   ]
  },
  {
   "cell_type": "code",
   "execution_count": 4,
   "id": "e8f02006",
   "metadata": {},
   "outputs": [
    {
     "name": "stdout",
     "output_type": "stream",
     "text": [
      "tensor([[-4.6071,  0.0000,  0.6114,  0.0219, -3.5738, -0.0000,  0.8840, -0.6129,\n",
      "          3.0230,  0.0000],\n",
      "        [-0.0170,  0.0000,  0.0000,  2.7599, -0.0000,  4.7669,  0.0000, -0.0000,\n",
      "         -0.0000,  1.3048],\n",
      "        [-0.0000, -0.0000, -0.0000,  0.0000, -0.0897,  1.0465,  0.4231,  1.7846,\n",
      "         -0.0000,  0.9488],\n",
      "        [ 0.3036,  1.6397,  0.0758, -0.0000,  1.4166, -5.5920, -0.2456, -0.0000,\n",
      "          0.8611, -0.3128],\n",
      "        [ 0.0000,  0.0000,  0.0000,  1.6351,  0.0000, -1.5874,  2.1445,  2.2529,\n",
      "          0.0000, -0.7305],\n",
      "        [ 0.0000, -0.9752,  0.0000,  0.0000, -1.6135, -0.0000,  0.2870, -0.7399,\n",
      "          3.9027, -0.5266],\n",
      "        [-0.8263, -2.8342,  0.0000,  0.0000, -0.0000,  0.0000,  0.0000, -0.0000,\n",
      "         -3.4270,  0.0000],\n",
      "        [ 0.0000, -0.4137, -0.0000,  0.0000, -0.0000,  0.0000, -3.1018,  0.0000,\n",
      "         -1.8450, -0.0000],\n",
      "        [-1.1083, -0.0000, -0.5817, -0.4262, -0.0000,  0.0000,  0.0000, -0.0000,\n",
      "          0.5893, -0.4632],\n",
      "        [ 1.3838,  0.0000, -0.6563, -0.0000,  0.0000, -1.2219, -1.6914,  1.4306,\n",
      "         -0.0000, -0.3235]])\n"
     ]
    }
   ],
   "source": [
    "import torch\n",
    "import torch.nn as nn\n",
    "dropout=nn.Dropout(p=0.5)\n",
    "x=torch.randn(10,10)\n",
    "y=dropout(x)\n",
    "print(y)\n",
    "\n",
    "\n",
    "\n",
    "\n",
    "\n",
    "\n"
   ]
  },
  {
   "cell_type": "markdown",
   "id": "2156aa51",
   "metadata": {},
   "source": [
    "1. 准备训练数据集\n",
    "2. 构建要使用的模型\n",
    "3. 模型训练\n",
    "4. 模型预测评估\n",
    "\n",
    "训练 \n",
    "1. 固定随机种子\n",
    "2. 初始化模型\n",
    "3. 损失函数\n",
    "4. 优化方法\n",
    "5. 训练轮数\n",
    "\n",
    "1. 遍历每个epoch\n",
    "2. 初始化数据加载器\n",
    "3. 训练时间\n",
    "4. 计算损失\n",
    "5. 遍历每个batch数据处理\n",
    "    1. 前向计算\n",
    "    2. 反向传播\n",
    "    3. 更新参数\n",
    "6. 计算准确率\n",
    "7. 计算损失\n",
    "8. 打印日志\n",
    "9. 保存模型\n",
    "\n",
    "\n",
    "预测\n",
    "1. 加载模型和训练好的网络参数\n",
    "2. 构建加载器\n",
    "3. 评估测试集\n",
    "4. 遍历测试集中的数据\n",
    "\n",
    "\n"
   ]
  },
  {
   "cell_type": "markdown",
   "id": "37845407",
   "metadata": {},
   "source": [
    "Transformer\n",
    "decode \n",
    "encode\n",
    "attention is all you need\n",
    "embedding 词嵌入\n",
    "masked head attention 带掩码的多头注意力  只能看到上文 不能看到下文\n",
    "\n",
    "postional encoding 位置编码\n",
    "奇数 cos\n",
    "偶数 sin\n",
    "Q K V 矩阵\n",
    "\n",
    "\n",
    "\n",
    "\n",
    "\n",
    "位置信息+位置编码\n",
    "\n",
    "\n",
    "\n",
    "\n"
   ]
  },
  {
   "cell_type": "markdown",
   "id": "3b202825",
   "metadata": {},
   "source": [
    "卷积神经网络\n",
    "CNN 自动学习特征\n",
    "\n",
    "卷积层 池化层 全连接层\n",
    "1.卷积层负责提取图像特征\n",
    "2.池化层负责压缩特征\n",
    "3.全连接层负责分类 \n",
    "\n",
    "\n",
    "\n",
    "卷积运算本质上就是卷积核和输入数据的局部区域间做点积\n",
    " \n",
    "为了保持大小不变使用padding 填充 不是自己随机设置，需要从最终特征图计算得到\n",
    "\n",
    "stride 步长\n",
    "\n",
    "多通道卷积计算\n",
    "多卷积和  \n",
    "特征图\n",
    "\n",
    "输入图像 W*W\n",
    "卷积和大小 F*F\n",
    "padding P\n",
    "stride S\n",
    "输出特征图大小N=(W-F+2P)/S+1\n",
    "\n",
    "\n",
    "\n",
    "\n",
    "\n",
    "\n",
    "\n",
    "三个通道[0,255] 0-black 255-white\n"
   ]
  },
  {
   "cell_type": "code",
   "execution_count": null,
   "id": "07687b33",
   "metadata": {},
   "outputs": [],
   "source": []
  },
  {
   "cell_type": "markdown",
   "id": "b9bb6c4c",
   "metadata": {},
   "source": []
  },
  {
   "cell_type": "code",
   "execution_count": null,
   "id": "ff3d67b3",
   "metadata": {},
   "outputs": [
    {
     "data": {
      "image/png": "[encoded data removed]",
      "text/plain": [
       "<Figure size 640x480 with 1 Axes>"
      ]
     },
     "metadata": {},
     "output_type": "display_data"
    },
    {
     "data": {
      "image/png": "[encoded data removed]",
      "text/plain": [
       "<Figure size 640x480 with 1 Axes>"
      ]
     },
     "metadata": {},
     "output_type": "display_data"
    }
   ],
   "source": [
    "import numpy as np\n",
    "import matplotlib.pyplot as plt\n",
    "\n",
    "x=np.linspace(-10,10,100)\n",
    "y=np.sin(x)\n",
    "\n",
    "plt.plot(x,y)\n",
    "plt.show()\n",
    "img=np.random.randint(0,255,(100,100,3))\n",
    "plt.imshow(img)\n",
    "plt.show()\n",
    "\n",
    "\n",
    "\n",
    "\n",
    "H W C\n",
    "heigth width channel\n",
    "\n"
   ]
  },
  {
   "cell_type": "markdown",
   "id": "a6951fda",
   "metadata": {},
   "source": [
    "input 图像  -->filter 卷积核  -->output 输出特征图\n",
    "\n",
    "\n",
    "\n",
    "\n",
    "\n",
    "\n",
    "\n",
    "\n",
    "\n",
    "\n"
   ]
  },
  {
   "cell_type": "code",
   "execution_count": null,
   "id": "5c525fec",
   "metadata": {},
   "outputs": [],
   "source": [
    "RNN  Recurrent Neural Network 处理带有序列特点的样本数据 \n",
    "循环神经网络\n",
    "\n",
    "NLP 自然语言处理 natural language processing\n",
    "\n",
    "词嵌入层的作用：将单词转换为向量\n",
    "nn.Embedding(num_embeddings,embedding_dim)\n",
    "num_embeddings 词典大小\n",
    "embedding_dim 词向量大小\n",
    "\n",
    "激活函数 tanh\n",
    " \n",
    "\n",
    "\n",
    "\n",
    "\n",
    "\n",
    "\n"
   ]
  },
  {
   "cell_type": "markdown",
   "id": "3fda52b3",
   "metadata": {},
   "source": [
    "构建数据集\n",
    "init\n",
    "len\n",
    "getitem\n",
    "\n",
    "循环神经网络\n",
    "init \n",
    "forward\n",
    "init_hidden 隐藏状态\n",
    "\n",
    "\n",
    "训练\n",
    "\n",
    "\n",
    "如何构建 \n",
    "特征怎么算\n",
    "\n",
    "\n",
    "\n",
    "\n",
    "\n",
    "\n",
    "\n"
   ]
  }
 ],
 "metadata": {
  "kernelspec": {
   "display_name": "Python 3 (ipykernel)",
   "language": "python",
   "name": "python3"
  },
  "language_info": {
   "codemirror_mode": {
    "name": "ipython",
    "version": 3
   },
   "file_extension": ".py",
   "mimetype": "text/x-python",
   "name": "python",
   "nbconvert_exporter": "python",
   "pygments_lexer": "ipython3",
   "version": "3.13.2"
  }
 },
 "nbformat": 4,
 "nbformat_minor": 5
}
